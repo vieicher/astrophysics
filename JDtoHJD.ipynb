{
  "nbformat": 4,
  "nbformat_minor": 0,
  "metadata": {
    "colab": {
      "provenance": []
    },
    "kernelspec": {
      "name": "python3",
      "display_name": "Python 3"
    },
    "language_info": {
      "name": "python"
    }
  },
  "cells": [
    {
      "cell_type": "code",
      "source": [
        "import numpy as np\n",
        "import matplotlib.pyplot as plt\n",
        "from astropy.time import Time\n",
        "from astropy.coordinates import SkyCoord, EarthLocation\n",
        "import astropy.units as u\n",
        "from google.colab import files"
      ],
      "metadata": {
        "id": "BNdHDuNkgWHO"
      },
      "execution_count": null,
      "outputs": []
    },
    {
      "cell_type": "code",
      "source": [
        "print(EarthLocation.get_site_names())"
      ],
      "metadata": {
        "colab": {
          "base_uri": "https://localhost:8080/"
        },
        "id": "LbYHgK2Osu0I",
        "outputId": "ae70bbb1-31be-44d6-b572-b296ef74567c"
      },
      "execution_count": null,
      "outputs": [
        {
          "output_type": "stream",
          "name": "stdout",
          "text": [
            "['ALMA', 'AO', 'ARCA', 'ASKAP', 'ATA', 'ATST', 'Allen Telescope Array', 'Anderson Mesa', 'Anglo-Australian Observatory', 'Apache Point', 'Apache Point Observatory', 'Arecibo', 'Arecibo Observatory', 'Astroparticle Research with Cosmics in the Abyss', 'Atacama Large Millimeter Array', 'Australian Square Kilometre Array Pathfinder', 'BAO', 'BBSO', 'Beijing XingLong Observatory', 'Big Bear Solar Observatory', 'Black Moshannon Observatory', 'CAHA', 'CAHA', 'CHARA', 'CHIME', 'Canada-France-Hawaii Telescope', 'Canadian Hydrogen Intensity Mapping Experiment', 'Catalina Observatory', 'Catalina Observatory: 61 inch telescope', 'Centro Astronomico Hispano-Aleman, Almeria', 'Cerro Armazones Observatory', 'Cerro Pachon', 'Cerro Paranal', 'Cerro Tololo', 'Cerro Tololo Interamerican Observatory', 'Cima Ekar 182 cm Telescope', 'Cima Ekar Observing Station', 'Ckoirama', 'Ckoirama Observatory', 'DCT', 'DKIST', 'DRAO', 'DRAO 26m Telescope', 'Daniel K. Inouye Solar Telescope', 'Discovery Channel Telescope', 'Dominion Astrophysical Observatory', 'Dominion Radio Astrophysical Observatory', 'Effelsberg', 'Effelsberg 100-m Radio Telescope', 'FAST', 'Five-hundred-meter Aperture Spherical radio Telescope', 'G1', 'GBT', 'GEO', 'GEO600 Gravitational Wave Detector', 'GEO_600', 'GMRT', 'Gemini North', 'Gemini South', 'Giant Metrewave Radio Telescope', 'Green Bank Observatory', 'Green Bank Telescope', 'H1', 'HALO', 'HET', 'Hale Telescope', 'Haleakala Observatories', 'Happy Jack', 'Hat Creek', 'Hat Creek Radio Observatory', 'Helium And Lead Observatory', 'Hobby Eberly Telescope', 'Hyper-Kamiokande', 'HyperK', 'Hyperk', 'IAO', 'ICECUBE', 'IceCube', 'IceCube Neutrino Observatory', 'Indian Astronomical Observatory', 'JCMT', 'James Clerk Maxwell Telescope', 'Jansky Very Large Array', 'John Galt Telescope', 'K1', 'KAGRA', 'KM3NeT ARCA', 'KM3NeT ORCA', 'KM3NeT arca', 'KM3NeT orca', 'Kamioka Gravitational Wave Detector', 'Keck Observatory', 'Kitt Peak', 'Kitt Peak National Observatory', 'L1', 'LDT', 'LHO', 'LHO_4k', 'LIGO Hanford Observatory', 'LIGO Livingston Observatory', 'LLO', 'LLO_4k', 'LOFAR', 'LSST', 'LSST 1.4m', 'LSST 8.4m', 'LSST AuxTel', 'LWA1', 'La Silla Observatory', 'La Silla Observatory (ESO)', 'Large Binocular Telescope', 'Las Campanas Observatory', 'Lick Observatory', 'Long Wavelength Array 1', 'Low-Frequency Array', 'Lowell Discovery Telescope', 'Lowell Observatory', 'Lowell Observatory - Anderson Mesa', 'Lowell Observatory - Mars Hill', 'MDM Observatory', 'MEERKAT', 'MJO', 'MOA', 'MWA', 'Manastash Ridge Observatory', 'Mars Hill', 'McDonald Observatory', 'Medicina', 'Medicina Dish', 'Medicina Radio Telescope', 'MeerKAT', 'Michigan-Dartmouth-MIT Observatory', 'Mont Mégantic Observatory', 'Mount Graham International Observatory', 'Mount Wilson Observatory', 'Mt Graham', 'Mt John', 'Mt. Ekar 182 cm Telescope', 'Mt. Stromlo Observatory', 'Multiple Mirror Telescope', 'Murchison Widefield Array', 'Murriyang', 'NANCAY', 'NASA Infrared Telescope Facility', 'NOV', 'NOVA', 'NOvA', 'NPOI', 'NST', 'Nancay', 'Nancay Radio Telescope', 'National Observatory of Venezuela', 'Navy Precision Optical Interferometer', 'Noto', 'Noto Radio Telescope', 'NuMI Off-axis νe Appearance', 'OAJ', 'OAJ', 'OAO', 'OAO', 'OARMA', 'OARMA', 'OCA', 'OMM', 'ORCA', 'OT', 'Observatoire SIRENE', 'Observatoire de Haute Provence', 'Observatoire du Mont Mégantic', 'Observatorio Astrofisico de Javalambre', 'Observatorio Astronomico Nacional, San Pedro Martir', 'Observatorio Astronomico Nacional, Tonantzintla', 'Observatorio Astronomico Ramon Maria Aller, Santiago de Compostela', 'Observatorio Cerro Armazones', 'Observatorio Ckoirama', 'Observatorio Ramon Maria Aller', 'Observatorio de Calar Alto', 'Observatorio del Teide', 'Observatorio del Teide, Tenerife', 'Okayama Astrophysical Observatory', 'Oscillation Research with Cosmics in the Abyss', 'Otehiwai', 'Otehiwai Observatory', 'Owens Valley Radio Observatory', 'PTO', 'Palomar', 'Paranal Observatory', 'Paranal Observatory (ESO)', 'Parkes', 'Perkins', 'Roque de los Muchachos', 'Roque de los Muchachos, La Palma', 'Royal Observatory Greenwich', 'Rubin', 'Rubin AuxTel', 'Rubin Auxiliary Telescope', 'Rubin Observatory', 'Rubin:1.2m', 'Rubin:Simonyi', 'SAAO', 'SALT', 'SKA Low', 'SKA Mid', 'SKA-LOW', 'SKA-Low', 'SKA-MID', 'SKA-Mid', 'SMA', 'SNO+', 'SPO', 'SRT', 'Sac Peak', 'Sacramento Peak', 'Sacramento Peak Observatory', 'Sardinia Radio Telescope', 'Siding Spring Observatory', 'Simonyi Survey Telescope', 'Simonyi Survey Telesope', 'Southern African Large Telescope', 'Sub-millimeter Array', 'Subaru', 'Subaru Telescope', 'Sudbury Neutrino Observatory +', 'Sunspot', 'Super-Kamiokande', 'SuperK', 'Superk', 'Sutherland', 'TNO', 'TNO', 'TUBITAK National Observatory', 'TUG', 'Thai National Observatory', 'The Hale Telescope', 'UKIRT', 'United Kingdom Infrared Telescope', 'V1', 'VIRGO', 'Vainu Bappu Observatory', 'Very Large Array', 'Virgo', 'Virgo Observatory', 'W. M. Keck Observatory', 'WIYN', 'WIYN 3.5 m', 'WIYN Observatory', 'Wendelstein', 'Wendelstein Observatory', 'Whipple', 'Whipple Observatory', 'Winer', 'Winer Observatory', 'Wise Observatory', 'aao', 'alma', 'ao', 'apo', 'arca', 'arecibo', 'askap', 'bbso', 'bmo', 'cfht', 'chime', 'ckoirama', 'ctio', 'dao', 'dct', 'dkist', 'drao', 'effelsberg', 'ekar', 'example_site', 'fast', 'flwo', 'gbt', 'gemini_north', 'gemini_south', 'gemn', 'gems', 'geo_600', 'gmrt', 'greenwich', 'haleakala', 'halo', 'hcro', 'het', 'hyperK', 'hyperk', 'iao', 'icecube', 'irtf', 'jcmt', 'kagra', 'keck', 'km3net arca', 'km3net orca', 'kpno', 'lapalma', 'lasilla', 'lbt', 'lco', 'ldt', 'lho_4k', 'lick', 'llo_4k', 'lo-am', 'lo-mh', 'lofar', 'lowell', 'lwa1', 'mars_hill', 'mcdonald', 'mdm', 'medicina', 'meerkat', 'mh', 'mma', 'mmt', 'mro', 'mso', 'mtbigelow', 'mwa', 'mwo', 'nancay', 'noto', 'nova', 'oca', 'ohp', 'omm', 'orca', 'ovro', 'paranal', 'parkes', 'pto', 'rubin', 'rubin_aux', 'rubin_auxtel', 'rubin_simonyi', 'rubin_sst', 'salt', 'sirene', 'ska low', 'ska mid', 'ska-low', 'ska-mid', 'skalow', 'skamid', 'sma', 'sno+', 'spm', 'spo', 'srt', 'sso', 'superK', 'superk', 'teide', 'tona', 'tug', 'ukirt', 'vbo', 'virgo', 'vla', 'wendelstein', 'winer', 'wise', 'wise', 'wiyn']\n"
          ]
        }
      ]
    },
    {
      "cell_type": "code",
      "source": [
        "print(\"Upload your JD in a column txt file\")\n",
        "uploaded = files.upload()\n",
        "filename = list(uploaded.keys())[0]\n",
        "\n",
        "# Load data\n",
        "data = np.loadtxt(filename)\n",
        "jd = data[:]\n",
        "#mag = data[:, 1]\n",
        "#err = data[:, 2]"
      ],
      "metadata": {
        "colab": {
          "base_uri": "https://localhost:8080/",
          "height": 92
        },
        "id": "nnsHaVVt4S3U",
        "outputId": "e9e08914-a705-4463-8726-11fc2fc82f31"
      },
      "execution_count": null,
      "outputs": [
        {
          "output_type": "stream",
          "name": "stdout",
          "text": [
            "Upload your JD in a column txt file\n"
          ]
        },
        {
          "output_type": "display_data",
          "data": {
            "text/plain": [
              "<IPython.core.display.HTML object>"
            ],
            "text/html": [
              "\n",
              "     <input type=\"file\" id=\"files-3384a0c7-4218-4ee2-b69e-1cbd55f4f112\" name=\"files[]\" multiple disabled\n",
              "        style=\"border:none\" />\n",
              "     <output id=\"result-3384a0c7-4218-4ee2-b69e-1cbd55f4f112\">\n",
              "      Upload widget is only available when the cell has been executed in the\n",
              "      current browser session. Please rerun this cell to enable.\n",
              "      </output>\n",
              "      <script>// Copyright 2017 Google LLC\n",
              "//\n",
              "// Licensed under the Apache License, Version 2.0 (the \"License\");\n",
              "// you may not use this file except in compliance with the License.\n",
              "// You may obtain a copy of the License at\n",
              "//\n",
              "//      http://www.apache.org/licenses/LICENSE-2.0\n",
              "//\n",
              "// Unless required by applicable law or agreed to in writing, software\n",
              "// distributed under the License is distributed on an \"AS IS\" BASIS,\n",
              "// WITHOUT WARRANTIES OR CONDITIONS OF ANY KIND, either express or implied.\n",
              "// See the License for the specific language governing permissions and\n",
              "// limitations under the License.\n",
              "\n",
              "/**\n",
              " * @fileoverview Helpers for google.colab Python module.\n",
              " */\n",
              "(function(scope) {\n",
              "function span(text, styleAttributes = {}) {\n",
              "  const element = document.createElement('span');\n",
              "  element.textContent = text;\n",
              "  for (const key of Object.keys(styleAttributes)) {\n",
              "    element.style[key] = styleAttributes[key];\n",
              "  }\n",
              "  return element;\n",
              "}\n",
              "\n",
              "// Max number of bytes which will be uploaded at a time.\n",
              "const MAX_PAYLOAD_SIZE = 100 * 1024;\n",
              "\n",
              "function _uploadFiles(inputId, outputId) {\n",
              "  const steps = uploadFilesStep(inputId, outputId);\n",
              "  const outputElement = document.getElementById(outputId);\n",
              "  // Cache steps on the outputElement to make it available for the next call\n",
              "  // to uploadFilesContinue from Python.\n",
              "  outputElement.steps = steps;\n",
              "\n",
              "  return _uploadFilesContinue(outputId);\n",
              "}\n",
              "\n",
              "// This is roughly an async generator (not supported in the browser yet),\n",
              "// where there are multiple asynchronous steps and the Python side is going\n",
              "// to poll for completion of each step.\n",
              "// This uses a Promise to block the python side on completion of each step,\n",
              "// then passes the result of the previous step as the input to the next step.\n",
              "function _uploadFilesContinue(outputId) {\n",
              "  const outputElement = document.getElementById(outputId);\n",
              "  const steps = outputElement.steps;\n",
              "\n",
              "  const next = steps.next(outputElement.lastPromiseValue);\n",
              "  return Promise.resolve(next.value.promise).then((value) => {\n",
              "    // Cache the last promise value to make it available to the next\n",
              "    // step of the generator.\n",
              "    outputElement.lastPromiseValue = value;\n",
              "    return next.value.response;\n",
              "  });\n",
              "}\n",
              "\n",
              "/**\n",
              " * Generator function which is called between each async step of the upload\n",
              " * process.\n",
              " * @param {string} inputId Element ID of the input file picker element.\n",
              " * @param {string} outputId Element ID of the output display.\n",
              " * @return {!Iterable<!Object>} Iterable of next steps.\n",
              " */\n",
              "function* uploadFilesStep(inputId, outputId) {\n",
              "  const inputElement = document.getElementById(inputId);\n",
              "  inputElement.disabled = false;\n",
              "\n",
              "  const outputElement = document.getElementById(outputId);\n",
              "  outputElement.innerHTML = '';\n",
              "\n",
              "  const pickedPromise = new Promise((resolve) => {\n",
              "    inputElement.addEventListener('change', (e) => {\n",
              "      resolve(e.target.files);\n",
              "    });\n",
              "  });\n",
              "\n",
              "  const cancel = document.createElement('button');\n",
              "  inputElement.parentElement.appendChild(cancel);\n",
              "  cancel.textContent = 'Cancel upload';\n",
              "  const cancelPromise = new Promise((resolve) => {\n",
              "    cancel.onclick = () => {\n",
              "      resolve(null);\n",
              "    };\n",
              "  });\n",
              "\n",
              "  // Wait for the user to pick the files.\n",
              "  const files = yield {\n",
              "    promise: Promise.race([pickedPromise, cancelPromise]),\n",
              "    response: {\n",
              "      action: 'starting',\n",
              "    }\n",
              "  };\n",
              "\n",
              "  cancel.remove();\n",
              "\n",
              "  // Disable the input element since further picks are not allowed.\n",
              "  inputElement.disabled = true;\n",
              "\n",
              "  if (!files) {\n",
              "    return {\n",
              "      response: {\n",
              "        action: 'complete',\n",
              "      }\n",
              "    };\n",
              "  }\n",
              "\n",
              "  for (const file of files) {\n",
              "    const li = document.createElement('li');\n",
              "    li.append(span(file.name, {fontWeight: 'bold'}));\n",
              "    li.append(span(\n",
              "        `(${file.type || 'n/a'}) - ${file.size} bytes, ` +\n",
              "        `last modified: ${\n",
              "            file.lastModifiedDate ? file.lastModifiedDate.toLocaleDateString() :\n",
              "                                    'n/a'} - `));\n",
              "    const percent = span('0% done');\n",
              "    li.appendChild(percent);\n",
              "\n",
              "    outputElement.appendChild(li);\n",
              "\n",
              "    const fileDataPromise = new Promise((resolve) => {\n",
              "      const reader = new FileReader();\n",
              "      reader.onload = (e) => {\n",
              "        resolve(e.target.result);\n",
              "      };\n",
              "      reader.readAsArrayBuffer(file);\n",
              "    });\n",
              "    // Wait for the data to be ready.\n",
              "    let fileData = yield {\n",
              "      promise: fileDataPromise,\n",
              "      response: {\n",
              "        action: 'continue',\n",
              "      }\n",
              "    };\n",
              "\n",
              "    // Use a chunked sending to avoid message size limits. See b/62115660.\n",
              "    let position = 0;\n",
              "    do {\n",
              "      const length = Math.min(fileData.byteLength - position, MAX_PAYLOAD_SIZE);\n",
              "      const chunk = new Uint8Array(fileData, position, length);\n",
              "      position += length;\n",
              "\n",
              "      const base64 = btoa(String.fromCharCode.apply(null, chunk));\n",
              "      yield {\n",
              "        response: {\n",
              "          action: 'append',\n",
              "          file: file.name,\n",
              "          data: base64,\n",
              "        },\n",
              "      };\n",
              "\n",
              "      let percentDone = fileData.byteLength === 0 ?\n",
              "          100 :\n",
              "          Math.round((position / fileData.byteLength) * 100);\n",
              "      percent.textContent = `${percentDone}% done`;\n",
              "\n",
              "    } while (position < fileData.byteLength);\n",
              "  }\n",
              "\n",
              "  // All done.\n",
              "  yield {\n",
              "    response: {\n",
              "      action: 'complete',\n",
              "    }\n",
              "  };\n",
              "}\n",
              "\n",
              "scope.google = scope.google || {};\n",
              "scope.google.colab = scope.google.colab || {};\n",
              "scope.google.colab._files = {\n",
              "  _uploadFiles,\n",
              "  _uploadFilesContinue,\n",
              "};\n",
              "})(self);\n",
              "</script> "
            ]
          },
          "metadata": {}
        },
        {
          "output_type": "stream",
          "name": "stdout",
          "text": [
            "Saving VlongJDtoJHDwAIRMASS.txt to VlongJDtoJHDwAIRMASS (1).txt\n"
          ]
        }
      ]
    },
    {
      "cell_type": "code",
      "source": [
        "from astropy.coordinates import SkyCoord, EarthLocation, AltAz\n",
        "from astropy.time import Time\n",
        "import astropy.units as u\n",
        "import numpy as np\n",
        "\n",
        "# Target coordinates (fixed)\n",
        "coords = SkyCoord(96.3359521, 10.8646153, frame='icrs', unit='deg')\n",
        "\n",
        "# Atlanta location\n",
        "atlanta_lat = 33.7490 * u.deg\n",
        "atlanta_lon = -84.3880 * u.deg\n",
        "atlanta_elev = 320 * u.m\n",
        "earth_loc = EarthLocation(lat=atlanta_lat, lon=atlanta_lon, height=atlanta_elev)\n",
        "\n",
        "# Initialize output arrays\n",
        "hjd = np.zeros(len(jd))\n",
        "airmass = np.zeros(len(jd))\n",
        "\n",
        "\n",
        "\n",
        "for i in range(len(jd)):\n",
        "    # Calculate HJD\n",
        "    time = Time(jd[i], format='jd', scale='utc', location=earth_loc)\n",
        "    hjd[i] = time.light_travel_time(coords).jd + jd[i]\n",
        "    # Calculate airmass\n",
        "    altaz = coords.transform_to(AltAz(obstime=time, location=earth_loc))\n",
        "    zenith_angle = 90 - altaz.alt.deg\n",
        "\n",
        "    airmass[i] = 1.0 / (np.cos(np.radians(zenith_angle)) + 0.50572 * (96.07995 - zenith_angle) ** -1.6364)\n",
        "\n",
        "# Save both HJD and airmass to CSV\n",
        "output_data = np.column_stack((hjd, airmass))\n",
        "header = \"HJD,Airmass\"\n",
        "np.savetxt(\"HJDwAirMassVlong.csv\",\n",
        "           output_data,\n",
        "           delimiter=\",\",\n",
        "           fmt=\"%.8f\",\n",
        "           header=header,\n",
        "           comments=\"\")\n",
        "\n",
        "print(f\"Saved HJD and airmass data to NEWWWHJDoutput4-16Rlong.csv\")"
      ],
      "metadata": {
        "colab": {
          "base_uri": "https://localhost:8080/"
        },
        "id": "RsNiTg_Wri9_",
        "outputId": "3c7195f5-ba65-4f75-f5d5-16845ee36032"
      },
      "execution_count": null,
      "outputs": [
        {
          "output_type": "stream",
          "name": "stdout",
          "text": [
            "Saved HJD and airmass data to NEWWWHJDoutput4-16Rlong.csv\n"
          ]
        }
      ]
    },
    {
      "cell_type": "code",
      "source": [],
      "metadata": {
        "id": "CrL7EiSs8gQ3"
      },
      "execution_count": null,
      "outputs": []
    }
  ]
}